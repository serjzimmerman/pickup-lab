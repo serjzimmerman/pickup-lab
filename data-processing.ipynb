{
 "cells": [
  {
   "cell_type": "code",
   "execution_count": null,
   "id": "be9eb85d",
   "metadata": {},
   "outputs": [],
   "source": [
    "import numpy as np\n",
    "import scipy as sp\n",
    "import pandas as pd\n",
    "import matplotlib.pyplot as plt\n",
    "from numpy import float64 as f64\n",
    "import matplotlib as mpl\n",
    "import csv\n",
    "import os"
   ]
  },
  {
   "cell_type": "code",
   "execution_count": null,
   "id": "697346d3-a221-44a9-aefd-be92b30965c6",
   "metadata": {},
   "outputs": [],
   "source": [
    "# For interactive plots\n",
    "%matplotlib widget\n",
    "plt.rc('figure', autolayout=True)\n",
    "plt.rc('savefig', dpi=600)\n",
    "plt.rc('pgf', texsystem='lualatex')\n",
    "plt.rc('font', family='serif')\n",
    "plt.rc('text', usetex=True)\n",
    "plt.rc('pgf', rcfonts=False)\n",
    "plt.rc('pgf', preamble=\"\\n\".join([\n",
    "    r\"\\usepackage{polyglossia}\",\n",
    "    r\"\\usepackage{fontspec}\",\n",
    "    r\"\\setmainfont{Liberation Serif}\",\n",
    "    r\"\\setsansfont{Liberation Sans}\",\n",
    "    r\"\\setmonofont{Liberation Mono}\",\n",
    "]))\n",
    "mpl.use('pgf')"
   ]
  },
  {
   "cell_type": "code",
   "execution_count": null,
   "id": "23ffbcf3",
   "metadata": {},
   "outputs": [],
   "source": [
    "label_font = 12\n",
    "markersize = 8"
   ]
  },
  {
   "cell_type": "code",
   "execution_count": null,
   "id": "853a5a24",
   "metadata": {},
   "outputs": [],
   "source": [
    "def get_ampl_calibration_(path: str) -> float:\n",
    "    input_col = \"CH1\"\n",
    "    sensor_col = \"CH2\"\n",
    "    df = pd.read_csv(path)\n",
    "    sensor_data = df[sensor_col].iloc[1:].astype(float)\n",
    "    return (sensor_data.max() - sensor_data.min()) / 2\n",
    "\n",
    "\n",
    "get_ampl_calibration = np.vectorize(get_ampl_calibration_)"
   ]
  },
  {
   "cell_type": "code",
   "execution_count": null,
   "id": "d6fb4432",
   "metadata": {},
   "outputs": [],
   "source": [
    "pos_0 = (9.81 + 9.80) / 2.0\n",
    "positions = (pd.read_csv(\"data/calibration/positions.csv\").to_numpy() - pos_0).flatten()\n",
    "start_index = 2\n",
    "f = np.vectorize(lambda n: f\"data/calibration/measurement{n}.csv\")\n",
    "file_names = f(np.arange(start_index, len(positions) + start_index))\n",
    "amplitudes = get_ampl_calibration(file_names) * 1000.0"
   ]
  },
  {
   "cell_type": "code",
   "execution_count": null,
   "id": "86789210-bc14-445f-83b2-d475f253c26a",
   "metadata": {},
   "outputs": [],
   "source": [
    "fig, ax = plt.subplots(1, 1, figsize=(4, 3))\n",
    "ax.set_ylabel(f\"$\\Delta{{z}}$, мм\")\n",
    "ax.set_xlabel(f\"$v_{{max}}$, мВ\")\n",
    "\n",
    "ax.get_yaxis().set_visible(True)\n",
    "ax.get_xaxis().set_visible(True)\n",
    "\n",
    "ax.grid(True, which=\"both\")\n",
    "\n",
    "result = sp.stats.linregress(amplitudes, positions)\n",
    "k = result.slope\n",
    "b = result.intercept\n",
    "\n",
    "xs = np.linspace(0, amplitudes.max(), 2)\n",
    "ys = xs * result.slope + result.intercept\n",
    "\n",
    "ax.plot(xs, ys)\n",
    "ax.scatter(amplitudes, positions, color=\"r\", marker=\"x\")\n",
    "\n",
    "fig.savefig(f\"drawings/calibration.pgf\", backend='pgf')"
   ]
  },
  {
   "cell_type": "code",
   "execution_count": null,
   "id": "7e90ffd8",
   "metadata": {},
   "outputs": [],
   "source": [
    "print(f\"A = {result.slope} * V + {result.intercept}\")"
   ]
  },
  {
   "cell_type": "code",
   "execution_count": null,
   "id": "08923733",
   "metadata": {},
   "outputs": [],
   "source": [
    "def average(lst):\n",
    "    return sum(lst) / len(lst)\n",
    "\n",
    "\n",
    "def average_list(lst):\n",
    "    av = average(lst)\n",
    "    return [x - av for x in lst]"
   ]
  },
  {
   "cell_type": "code",
   "execution_count": null,
   "id": "3929d11c",
   "metadata": {},
   "outputs": [],
   "source": [
    "first_file_index = 11\n",
    "end_file_index = 21\n",
    "f = np.vectorize(lambda n: f\"data/vertical/measurement{n}.csv\")\n",
    "file_names = f(np.arange(first_file_index, end_file_index))"
   ]
  },
  {
   "cell_type": "code",
   "execution_count": null,
   "id": "4b931ac3",
   "metadata": {},
   "outputs": [],
   "source": [
    "av_zs = [6.63, 6.03, 5.43, 4.83, 4.23, 3.63, 3.03, 2.43, 1.83, 1.23]"
   ]
  },
  {
   "cell_type": "code",
   "execution_count": null,
   "id": "9f85cb3f",
   "metadata": {},
   "outputs": [],
   "source": [
    "def butter_lowpass(cutoff, fs, order=5):\n",
    "    return sp.signal.butter(order, cutoff, fs=fs, btype='lowpass', output='sos')\n",
    "\n",
    "\n",
    "def butter_lowpass_filter(data, cutoff, fs, order=5):\n",
    "    sos = butter_lowpass(cutoff, fs, order=order)\n",
    "    y = sp.signal.sosfilt(sos, data)\n",
    "    return y"
   ]
  },
  {
   "cell_type": "code",
   "execution_count": null,
   "id": "51acfa11-b9eb-4899-8fa5-30cf9921103c",
   "metadata": {},
   "outputs": [],
   "source": [
    "cutoff = 2000.0\n",
    "sr = 1250000.0\n",
    "n = 30000\n",
    "t = n / sr\n",
    "\n",
    "def filter_signal(sig):\n",
    "    return butter_lowpass_filter(sig, cutoff, sr)"
   ]
  },
  {
   "cell_type": "code",
   "execution_count": null,
   "id": "a8c6ca31-26a3-46c0-8e53-a710c7c3f1b9",
   "metadata": {},
   "outputs": [],
   "source": [
    "def find_peaks(sig):\n",
    "    peak_distance = 500.0\n",
    "    peaks, _ = sp.signal.find_peaks(sig, distance=peak_distance)\n",
    "    return peaks"
   ]
  },
  {
   "cell_type": "code",
   "execution_count": null,
   "id": "fd1d747c-9623-413a-a601-10f62ed02e7e",
   "metadata": {},
   "outputs": [],
   "source": [
    "def plot_fft(file, us, us_filtered, offset):\n",
    "    fig, ax = plt.subplots(1, 1, figsize=(5, 3.5))\n",
    "    ax.set_ylabel(f\"$\\Delta{{z}}$, мм\")\n",
    "    ax.set_xlabel(f\"$v_{{max}}$, мВ\")\n",
    "    \n",
    "    ax.get_yaxis().set_visible(True)\n",
    "    ax.get_xaxis().set_visible(True)\n",
    "    \n",
    "    ax.grid(True, which=\"both\")\n",
    "\n",
    "    def plot_one(sig, label):\n",
    "        f, pxx_den = sp.signal.periodogram(sig, sr)\n",
    "        ax.semilogy(f, pxx_den, label=label)\n",
    "\n",
    "    plot_one(us, \"Изначальный сигнал\")\n",
    "    plot_one(us_filtered, \"После фильтра $f_{cutoff} = 2500$ Гц\")\n",
    "    \n",
    "    ax.set_title(f\"Спектр мощности при $z_0 = {round(offset, 2)}$ мм\")\n",
    "    ax.set_ylim([1e-7, 1e2])\n",
    "    ax.set_xlim([0, 1e4])\n",
    "    ax.set_xlabel('f, Гц')\n",
    "    ax.set_ylabel('$PSD$, $V^2$/Гц')\n",
    "    ax.legend()\n",
    "    \n",
    "    fig.savefig(f\"{file}.pgf\", backend='pgf')"
   ]
  },
  {
   "cell_type": "code",
   "execution_count": null,
   "id": "72786e65",
   "metadata": {},
   "outputs": [],
   "source": [
    "all_fs = []\n",
    "all_zs = []\n",
    "for (offset, name) in zip(av_zs, file_names):\n",
    "    df = pd.read_csv(name).iloc[1:]\n",
    "    n_col = \"X\"\n",
    "    u_col = \"CH4\"\n",
    "    pos_col = \"CH2\"\n",
    "    \n",
    "    ns = df[n_col].astype(int).to_numpy()\n",
    "    us = df[u_col].astype(float).to_numpy() * 1000.0 # mv\n",
    "    ch2_millivolts = df[pos_col].astype(float).to_numpy() * 1000.0 # mv\n",
    "    \n",
    "    pos_rel = filter_signal(ch2_millivolts * k + b + offset)\n",
    "    voltage_offset = np.average(us)\n",
    "    us = -1.0 * (us - voltage_offset) # Offset and invert phase\n",
    "    \n",
    "    us_filtered = filter_signal(us)\n",
    "    peaks_us = find_peaks(us_filtered)\n",
    "    print(f\"Found peaks of filtered signal: {peaks_us}\")\n",
    "    values = peaks_us[np.argsort(-us_filtered[peaks_us])][0:2]\n",
    "    finish_idx, start_idx = values.max(), values.min()\n",
    "    \n",
    "    ns = np.arange(0, finish_idx - start_idx)\n",
    "    us = us[start_idx:finish_idx]\n",
    "    us_filtered = us_filtered[start_idx:finish_idx]\n",
    "    us_filtered -= np.average(us_filtered) # To make integral periodic\n",
    "    pos_rel = pos_rel[start_idx:finish_idx]\n",
    "    \n",
    "    get_integral_up_to = np.vectorize(lambda x: sp.integrate.simpson(us_filtered[:x + 1], dx=t))\n",
    "    time_integral = get_integral_up_to(ns)\n",
    "    peaks_integral = find_peaks(time_integral)\n",
    "    peaks_pos = find_peaks(-pos_rel)\n",
    "    diff_peaks = peaks_integral - peaks_pos\n",
    "    roll_amount = int(np.average(diff_peaks)) \n",
    "    pos_rel = np.roll(pos_rel, roll_amount)\n",
    "    print(f\"Difference between peaks and thoughs of position and integral: {diff_peaks}\")\n",
    "    \n",
    "    all_fs.append(time_integral)\n",
    "    all_zs.append(pos_rel)\n",
    "\n",
    "    plot_fft(f\"drawings/fft/{os.path.basename(name)}\", us, us_filtered, offset)"
   ]
  },
  {
   "cell_type": "code",
   "execution_count": null,
   "id": "ed2141a3-ab25-4700-a11c-e7648d360e37",
   "metadata": {},
   "outputs": [],
   "source": [
    "all_fs = list(reversed(all_fs))\n",
    "all_zs = list(reversed(all_zs))\n",
    "av_zs = list(reversed(av_zs))\n",
    "\n",
    "for i in range(1, len(all_fs)):\n",
    "    all_fs[-i - 1] += max(all_fs[-i]) - min(all_fs[-i - 1])\n",
    "av = (max(all_zs[0]) + min(all_zs[0])) / 2\n",
    "for i in range(len(all_zs)):\n",
    "    all_zs[i] += av + av_zs[0]"
   ]
  },
  {
   "cell_type": "code",
   "execution_count": null,
   "id": "c1b8bc40-269f-4f6c-a82d-e39c1776049c",
   "metadata": {},
   "outputs": [],
   "source": [
    "all_fs_np = np.concatenate(all_fs)\n",
    "all_zs_np = np.concatenate(all_zs)\n",
    "\n",
    "exponent = lambda x, a, b: np.exp(a * x + b)\n",
    "popt, pcov = sp.optimize.curve_fit(exponent, all_zs_np, all_fs_np)\n",
    "zs = np.linspace(np.min(all_zs_np), np.max(all_zs_np), 10000)\n",
    "(a, b) = popt\n",
    "fit = np.exp(a * zs + b)\n",
    "\n",
    "fig, ax = plt.subplots(1, 1, figsize=(4, 3))\n",
    "\n",
    "ax.set_ylabel(\"$NL_{static}$, мВ с\")\n",
    "ax.set_xlabel(\"z, мм\")\n",
    "\n",
    "ax.get_yaxis().set_visible(True)\n",
    "ax.get_xaxis().set_visible(True)\n",
    "\n",
    "ax.grid(True, which=\"both\")\n",
    "\n",
    "ax.plot(zs, fit)\n",
    "for (i, (fs, zs)) in enumerate(zip(all_fs, all_zs)):\n",
    "    ax.plot(zs, fs, label=f\"$z_0 = {round(av_zs[i], 2)}$ мм\")\n",
    "\n",
    "fig.savefig(f\"drawings/flux_function_z_axis_fit.pgf\", backend='pgf')"
   ]
  }
 ],
 "metadata": {
  "kernelspec": {
   "display_name": "Python 3 (ipykernel)",
   "language": "python",
   "name": "python3"
  },
  "language_info": {
   "codemirror_mode": {
    "name": "ipython",
    "version": 3
   },
   "file_extension": ".py",
   "mimetype": "text/x-python",
   "name": "python",
   "nbconvert_exporter": "python",
   "pygments_lexer": "ipython3",
   "version": "3.11.7"
  }
 },
 "nbformat": 4,
 "nbformat_minor": 5
}
